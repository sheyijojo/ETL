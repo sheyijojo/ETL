{
  "nbformat": 4,
  "nbformat_minor": 0,
  "metadata": {
    "colab": {
      "name": "Sheyi_cidm_6351.ipynb",
      "provenance": [],
      "collapsed_sections": [],
      "toc_visible": true,
      "authorship_tag": "ABX9TyPj4f+SjhzzZJCYB+abewXC",
      "include_colab_link": true
    },
    "kernelspec": {
      "name": "python3",
      "display_name": "Python 3"
    },
    "language_info": {
      "name": "python"
    }
  },
  "cells": [
    {
      "cell_type": "markdown",
      "metadata": {
        "id": "view-in-github",
        "colab_type": "text"
      },
      "source": [
        "<a href=\"https://colab.research.google.com/github/sheyijojo/ETL/blob/main/Sheyi_cidm_6351.ipynb\" target=\"_parent\"><img src=\"https://colab.research.google.com/assets/colab-badge.svg\" alt=\"Open In Colab\"/></a>"
      ]
    },
    {
      "cell_type": "code",
      "execution_count": null,
      "metadata": {
        "colab": {
          "base_uri": "https://localhost:8080/"
        },
        "id": "nmeUon_ln9jB",
        "outputId": "a1f58b01-ad56-4a96-e4d2-dfdc61dd6168"
      },
      "outputs": [
        {
          "output_type": "stream",
          "name": "stdout",
          "text": [
            "Olusheyi Gaji\n",
            "Monday class is fun\n"
          ]
        }
      ],
      "source": [
        "print(\"Olusheyi Gaji\")\n",
        "print(\"Monday class is fun\")"
      ]
    },
    {
      "cell_type": "code",
      "source": [
        "a = 10\n",
        "b = 3\n",
        "c = 2.5\n",
        "\n",
        "print('Addition: ' ,a+b)\n",
        "print('Subtraction: ' ,a-b)\n",
        "print('Multiplication: ' ,a*b)\n",
        "print('Multiplication: ' ,a*c)\n",
        "print('Division: ' ,a/b)\n",
        "print('Division: ' ,a//b)\n",
        "print('Modulus: ' , a%b) "
      ],
      "metadata": {
        "colab": {
          "base_uri": "https://localhost:8080/"
        },
        "id": "AIY_uTHxotOM",
        "outputId": "a7175ae8-2a0c-4542-bc16-16fafd8d06f9"
      },
      "execution_count": null,
      "outputs": [
        {
          "output_type": "stream",
          "name": "stdout",
          "text": [
            "Addition:  13\n",
            "Subtraction:  7\n",
            "Multiplication:  30\n",
            "Multiplication:  25.0\n",
            "Division:  3.3333333333333335\n",
            "Division:  3\n",
            "Modulus:  1\n"
          ]
        }
      ]
    },
    {
      "cell_type": "code",
      "source": [
        "stud_id = int(input(\"please input your student ID: \"))\n",
        "stu_name = input(\"please input your student name: \")\n",
        "print(f'The ID of {stud_id} is {stu_name}')"
      ],
      "metadata": {
        "colab": {
          "base_uri": "https://localhost:8080/"
        },
        "id": "aYtYB4vUqE_R",
        "outputId": "44277c2a-b6d4-4b3e-ac1f-89400f8e0cb4"
      },
      "execution_count": null,
      "outputs": [
        {
          "output_type": "stream",
          "name": "stdout",
          "text": [
            "please input your student ID: 43\n",
            "please input your student name: seyi\n",
            "The ID of 43 is seyi\n"
          ]
        }
      ]
    },
    {
      "cell_type": "code",
      "source": [
        "num1 = int(input(\"input the first integer: \"))\n",
        "num2 = int(input(\"input the second number: \"))\n",
        "print(f'num1 - num2 = {num1 - num2}')"
      ],
      "metadata": {
        "colab": {
          "base_uri": "https://localhost:8080/"
        },
        "id": "X03vM8O2tefU",
        "outputId": "9e5635b6-b51a-4e65-bd9c-30d645e99d93"
      },
      "execution_count": null,
      "outputs": [
        {
          "output_type": "stream",
          "name": "stdout",
          "text": [
            "input the first integer: 500\n",
            "input the second number: 300\n",
            "num1 - num2 = 200\n"
          ]
        }
      ]
    },
    {
      "cell_type": "markdown",
      "source": [
        "Making comparison statement"
      ],
      "metadata": {
        "id": "fpafUsxlvRXM"
      }
    },
    {
      "cell_type": "code",
      "source": [
        "\"\"\"\n",
        "Is this a a code for multiple statement?\"\n",
        "\n",
        "\"\"\"\n",
        "\n",
        "print(\"true\")"
      ],
      "metadata": {
        "colab": {
          "base_uri": "https://localhost:8080/"
        },
        "id": "Wi0iIgDuvCjy",
        "outputId": "6e04e10b-00b7-458c-c108-54b71290bbb0"
      },
      "execution_count": null,
      "outputs": [
        {
          "output_type": "stream",
          "name": "stdout",
          "text": [
            "true\n"
          ]
        }
      ]
    },
    {
      "cell_type": "code",
      "source": [
        "has_license = False\n",
        "if has_license == True:\n",
        "  print('You can drive')\n",
        "print('False condition, skip the if statement')\n"
      ],
      "metadata": {
        "colab": {
          "base_uri": "https://localhost:8080/"
        },
        "id": "sx359adav8mT",
        "outputId": "dcac0643-fc6e-4602-cf80-5a66408a4e8f"
      },
      "execution_count": null,
      "outputs": [
        {
          "output_type": "stream",
          "name": "stdout",
          "text": [
            "False condition, skip the if statement\n"
          ]
        }
      ]
    },
    {
      "cell_type": "markdown",
      "source": [
        "**Comparing Two Values**"
      ],
      "metadata": {
        "id": "Jop3uYVcNV9q"
      }
    },
    {
      "cell_type": "code",
      "source": [
        "number1 = 20\n",
        "number2 = 30\n",
        "print(20>30)\n",
        "print(number2>number1)\n",
        "print(number1>=number2)\n",
        "print(number1 == number2)\n",
        "print('Alice' != 'Bob')\n"
      ],
      "metadata": {
        "colab": {
          "base_uri": "https://localhost:8080/"
        },
        "id": "bIfla_-xNgIH",
        "outputId": "0c6305c5-f5e1-41f0-c861-2336a3dfb466"
      },
      "execution_count": null,
      "outputs": [
        {
          "output_type": "stream",
          "name": "stdout",
          "text": [
            "False\n",
            "True\n",
            "False\n",
            "False\n",
            "True\n"
          ]
        }
      ]
    },
    {
      "cell_type": "markdown",
      "source": [
        "**IF statement help to make decisioon with one choice.**\n",
        "\n",
        "We can rep this statment in python using the IF statement.\n",
        "\n",
        "\n",
        "*   You are an adult if you are 18years old.\n",
        "*   You can drive a car if you have a driver license.\n",
        "\n",
        "\n",
        "\n",
        "\n"
      ],
      "metadata": {
        "id": "EL2HDGuFQ3TT"
      }
    },
    {
      "cell_type": "code",
      "source": [
        "age = 22\n",
        "if age >= 18:\n",
        "  print(\"You are an adult\")\n",
        "#else:\n",
        "#print(\"Are you Happy Now!\")\n",
        "\n",
        "# Example 2\n",
        "has_license = False\n",
        "if has_license == True:\n",
        "  print(\"You can drive a car\")\n",
        "\n",
        "\"\"\"# Example 3\n",
        "has_license = True\n",
        "if has_license == True:\n",
        "  print(\"You can drive a car\")\"\"\"\n",
        "\n",
        "\n"
      ],
      "metadata": {
        "colab": {
          "base_uri": "https://localhost:8080/"
        },
        "id": "fksEMrtpP3Yo",
        "outputId": "56605d51-d5c5-47ac-a30b-439e446ccb3f"
      },
      "execution_count": null,
      "outputs": [
        {
          "output_type": "stream",
          "name": "stdout",
          "text": [
            "You are an adult\n",
            "You can drive a car\n"
          ]
        }
      ]
    },
    {
      "cell_type": "code",
      "source": [
        "#ifelif is good for multiple condition\n",
        "# Good for multiple conditions\n",
        "\n",
        "x = -2\n",
        "\n",
        "if x>0:\n",
        "  print(\"x is +ve\")\n",
        "elif x == 0:\n",
        "  print(\"x is equal to zero\")\n",
        "else:\n",
        "  print(\" x is -ve\")\n",
        "  (\"\\n\")\n",
        "\n",
        "\n",
        "\n",
        "\n",
        "\n",
        "\n",
        "\n",
        "\n"
      ],
      "metadata": {
        "colab": {
          "base_uri": "https://localhost:8080/"
        },
        "id": "HDXok6YCVYoe",
        "outputId": "92ba6c7e-f1a5-495f-a881-77e1361cc927"
      },
      "execution_count": null,
      "outputs": [
        {
          "output_type": "stream",
          "name": "stdout",
          "text": [
            " x is -ve\n"
          ]
        }
      ]
    },
    {
      "cell_type": "code",
      "source": [
        "n1 = 10\n",
        "n2 = 40\n",
        "n3 = 30\n",
        "\n",
        "if n1>n2:\n",
        "  if n1>n3:\n",
        "    print(\"The largest number is n1\")\n",
        "\n",
        "  else:\n",
        "    print(\"The largest number is n3\")\n",
        "else:\n",
        "  if n2>n3:\n",
        "   print(\"The largest number is n2\") \n",
        "\n",
        "  else:\n",
        "    print(\"The largest number is: n3 \")\n",
        " \n",
        "\n"
      ],
      "metadata": {
        "colab": {
          "base_uri": "https://localhost:8080/"
        },
        "id": "QLxb9EE0XLjc",
        "outputId": "9389ebdb-4d6d-4aae-ea27-da7c5317c1fc"
      },
      "execution_count": null,
      "outputs": [
        {
          "output_type": "stream",
          "name": "stdout",
          "text": [
            "The largest number is n2\n"
          ]
        }
      ]
    },
    {
      "cell_type": "markdown",
      "source": [
        "**Boolean Logical operators are used to make more complicated conditions for if statements that rely on more than one conditiob : and, or, & not**"
      ],
      "metadata": {
        "id": "mQnlsRj0da31"
      }
    },
    {
      "cell_type": "code",
      "source": [
        "#both stament must be true\n",
        "print(2>10 and 2<3)\n",
        "\n",
        "# one statement is true\n",
        "print(2>10 or 2<3)\n",
        "\n",
        "#invert a statment\n",
        "print(not 2<1)"
      ],
      "metadata": {
        "colab": {
          "base_uri": "https://localhost:8080/"
        },
        "id": "Z3_i53_Id23j",
        "outputId": "92bc7162-9a01-4dfb-9c5f-29d6c5a89437"
      },
      "execution_count": null,
      "outputs": [
        {
          "output_type": "stream",
          "name": "stdout",
          "text": [
            "False\n",
            "True\n",
            "True\n"
          ]
        }
      ]
    },
    {
      "cell_type": "markdown",
      "source": [
        "age = 19\n",
        "driver_license = True\n",
        "\n",
        "if age<19:\n",
        "  if driver_license == True :\n",
        "    print(\"You can drive\")\n",
        "\n",
        "  else:# meaning driver's license is false\n",
        "    print(\"you cannot drive\")\n",
        "\n",
        "else: # meaning cannot drive if age less than 19\n",
        "  print(\"you cannot drive: you heard me! \")\n",
        "  "
      ],
      "metadata": {
        "id": "rBwvvjWVc73Z"
      }
    },
    {
      "cell_type": "code",
      "source": [
        "age = 19\n",
        "driver_license = True\n",
        "\n",
        "if age<19:\n",
        "  if driver_license == True :\n",
        "    print(\"You can drive\")\n",
        "\n",
        "  else:# meaning driver's license is false\n",
        "    print(\"you cannot drive\")\n",
        "\n",
        "else: # meaning cannot drive if age less than 19\n",
        "  print(\"you cannot drive: you heard me! \")\n",
        "  "
      ],
      "metadata": {
        "colab": {
          "base_uri": "https://localhost:8080/"
        },
        "id": "9_EgS4eyw0yO",
        "outputId": "601b1b1f-cbba-4418-8e50-f31b85511077"
      },
      "execution_count": null,
      "outputs": [
        {
          "output_type": "stream",
          "name": "stdout",
          "text": [
            "you cannot drive: you heard me! \n"
          ]
        }
      ]
    },
    {
      "cell_type": "markdown",
      "source": [
        "# you can apply for phd if you have B.S or M.S\n",
        "\n",
        "\n",
        "\n",
        "\n"
      ],
      "metadata": {
        "id": "Z7vgT-7LxDde"
      }
    },
    {
      "cell_type": "code",
      "source": [
        "degree = 'M.S.'\n",
        "if degree == 'B.S' or degree == 'M.S.':\n",
        "  print('You can apply for Ph.D')\n",
        "\n",
        "\n",
        "# check the sub-conditions in parentheses first\n",
        "# check not, and, or sequentially.\n",
        "\n",
        "print(10>20 and 20<30 or not (1 != 5))"
      ],
      "metadata": {
        "colab": {
          "base_uri": "https://localhost:8080/"
        },
        "id": "RI2y99NozZhZ",
        "outputId": "8a9970a0-d11e-428c-d430-62701fba284b"
      },
      "execution_count": null,
      "outputs": [
        {
          "output_type": "stream",
          "name": "stdout",
          "text": [
            "You can apply for Ph.D\n",
            "False\n"
          ]
        }
      ]
    },
    {
      "cell_type": "code",
      "source": [
        "# Loops are used to repeat a block of code multiple times. Here are two types of loops: while loop and for loop."
      ],
      "metadata": {
        "id": "2d7rPPMA2cEd"
      },
      "execution_count": null,
      "outputs": []
    },
    {
      "cell_type": "code",
      "source": [
        "num = 0;\n",
        "while num<=5:\n",
        " print(num)\n",
        " num = num + 1\n",
        " \n",
        " print(\"end\")"
      ],
      "metadata": {
        "colab": {
          "base_uri": "https://localhost:8080/"
        },
        "id": "0q6pWCts24Dx",
        "outputId": "975cb693-74ec-478f-a33a-b85e586ef255"
      },
      "execution_count": null,
      "outputs": [
        {
          "output_type": "stream",
          "name": "stdout",
          "text": [
            "0\n",
            "1\n",
            "2\n",
            "3\n",
            "4\n",
            "5\n",
            "end\n"
          ]
        }
      ]
    },
    {
      "cell_type": "code",
      "source": [],
      "metadata": {
        "id": "oveIycSf8Tz8"
      },
      "execution_count": null,
      "outputs": []
    },
    {
      "cell_type": "code",
      "source": [],
      "metadata": {
        "id": "pRNInFcx3qun"
      },
      "execution_count": null,
      "outputs": []
    }
  ]
}